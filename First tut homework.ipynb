{
 "cells": [
  {
   "cell_type": "code",
   "execution_count": 1,
   "id": "62aeba5a",
   "metadata": {},
   "outputs": [
    {
     "data": {
      "text/plain": [
       "row_n           0\n",
       "id              1\n",
       "name            0\n",
       "gender          0\n",
       "species         0\n",
       "birthday        0\n",
       "personality     0\n",
       "song           11\n",
       "phrase          0\n",
       "full_id         0\n",
       "url             0\n",
       "dtype: int64"
      ]
     },
     "execution_count": 1,
     "metadata": {},
     "output_type": "execute_result"
    }
   ],
   "source": [
    "# Im using the dataset from the instruction because I can't get a working URL from my chatbot. \n",
    "\n",
    "import pandas as pd\n",
    "url = \"https://raw.githubusercontent.com/rfordatascience/tidytuesday/master/data/2020/2020-05-05/villagers.csv\"\n",
    "df = pd.read_csv(url)\n",
    "df.isna().sum()"
   ]
  },
  {
   "cell_type": "code",
   "execution_count": 3,
   "id": "7a831376",
   "metadata": {
    "scrolled": false
   },
   "outputs": [
    {
     "name": "stdout",
     "output_type": "stream",
     "text": [
      "row_n           0\n",
      "id              1\n",
      "name            0\n",
      "gender          0\n",
      "species         0\n",
      "birthday        0\n",
      "personality     0\n",
      "song           11\n",
      "phrase          0\n",
      "full_id         0\n",
      "url             0\n",
      "dtype: int64\n"
     ]
    }
   ],
   "source": [
    "# Check for missing values\n",
    "missing_values = df.isnull().sum()\n",
    "\n",
    "# Print missing values for each column\n",
    "print(missing_values)"
   ]
  },
  {
   "cell_type": "markdown",
   "id": "51a7ddc6",
   "metadata": {},
   "source": [
    "Summary of interaction with chatgpt \n",
    "https://chatgpt.com/share/0014fe7d-81cb-4b90-8b94-0ecc447064c6"
   ]
  },
  {
   "cell_type": "markdown",
   "id": "2148863e",
   "metadata": {},
   "source": [
    "Summary of Interaction:\n",
    "\n",
    "In this conversation, I asked for assistance in identifying missing values in a dataset for a homework assignment. The expert provided guidance using Python and the Pandas library. Specifically, the process involved:\n",
    "\n",
    "Loading the dataset into a Pandas DataFrame using pd.read_csv('your_dataset.csv').\n",
    "Checking for missing values using the function df.isnull().sum(), which returns the count of missing values in each column.\n",
    "Optionally checking if any missing values exist in the dataset by using df.isnull().values.any(), which returns a boolean result.\n",
    "This approach offers a straightforward way to identify missing values in a dataset, aiding in data cleaning and preparation."
   ]
  },
  {
   "cell_type": "markdown",
   "id": "df0af8c8",
   "metadata": {},
   "source": [
    "Final working version is on chatgpt"
   ]
  }
 ],
 "metadata": {
  "kernelspec": {
   "display_name": "Python 3 (ipykernel)",
   "language": "python",
   "name": "python3"
  },
  "language_info": {
   "codemirror_mode": {
    "name": "ipython",
    "version": 3
   },
   "file_extension": ".py",
   "mimetype": "text/x-python",
   "name": "python",
   "nbconvert_exporter": "python",
   "pygments_lexer": "ipython3",
   "version": "3.11.6"
  }
 },
 "nbformat": 4,
 "nbformat_minor": 5
}
